{
 "cells": [
  {
   "cell_type": "code",
   "execution_count": 1,
   "metadata": {},
   "outputs": [],
   "source": [
    "import pandas as pd\n",
    "import openpyxl\n",
    "\n",
    "import my_func as mf\n",
    "import my_graph as mgc"
   ]
  },
  {
   "cell_type": "code",
   "execution_count": 2,
   "metadata": {},
   "outputs": [],
   "source": [
    "sheet1 = pd.read_excel(\"../data/new_un_data.xlsx\", engine='openpyxl', sheet_name = 0)"
   ]
  },
  {
   "cell_type": "code",
   "execution_count": 3,
   "metadata": {},
   "outputs": [],
   "source": [
    "attr_1 = [\"Position number\", \"Index #\", \"First name\", \"Last name\", \"Current position title\", \"Current position level\", \"s/m preference 1\", \"s/m preference 2\", \"s/m preference 3\", \"HM recommended\", \"HM recommended.1\", \"HM recommended.2\", \"HM recommended.3\", \"HM recommended.4\", \"Scoring system (total)\", \"Current duty station\", \"Hardship classification\"]\n",
    "apply_data = sheet1[attr_1]"
   ]
  },
  {
   "cell_type": "code",
   "execution_count": 4,
   "metadata": {},
   "outputs": [],
   "source": [
    "pos2idx = mf.mk_pos2idx(apply_data)\n",
    "idx2pos = mf.to_idx2pos(pos2idx)\n",
    "pos2pers, pers2pos = mf.mk_pos2pers(apply_data)"
   ]
  },
  {
   "cell_type": "code",
   "execution_count": 5,
   "metadata": {},
   "outputs": [],
   "source": [
    "mg = mgc.Graph(len(pos2idx), idx2pos, pos2pers)\n",
    "mf.init_graph(mg, apply_data, pos2idx, pers2pos)\n",
    "# mf.addHMRecScore(mg, apply_data, pos2idx)"
   ]
  },
  {
   "cell_type": "code",
   "execution_count": 6,
   "metadata": {},
   "outputs": [
    {
     "name": "stdout",
     "output_type": "stream",
     "text": [
      "{'vertex': 15, 'cycle': 6, 'length': 8}\n",
      "30515889 > 30515885 > 30515873 > 30515883 > 30515875 > 30515884 > 30515888 > 30515887 > 30515886 > 30515889\n",
      "{'vertex': 6, 'cycle': 1, 'length': 6}\n",
      "30515894 > 30515877 > 30515872 > 30515871 > 30515893 > 30515890 > 30515876 > 30515894\n",
      "{'vertex': 25, 'cycle': 2, 'length': 4}\n",
      "30515882 > 30515874 > 30515879 > 30515880 > 30515881 > 30515882\n",
      "{'vertex': 1, 'cycle': 2, 'length': 3}\n",
      "30515898 > 30515895 > 30515897 > 30515878 > 30515898\n",
      "{'vertex': 8, 'cycle': 0, 'length': 1}\n",
      "30515892 > 30515891 > 30515892\n",
      "left alone positions: 30515899, 30515896, 30515870, "
     ]
    }
   ],
   "source": [
    "mg.find_max_cycles()"
   ]
  },
  {
   "cell_type": "code",
   "execution_count": 7,
   "metadata": {},
   "outputs": [
    {
     "name": "stdout",
     "output_type": "stream",
     "text": [
      "30515885 > 30515873 > 30515883 > 30515875 > 30515884 > 30515888 > 30515887 > 30515886 > 30515889\n",
      "30515877 > 30515872 > 30515871 > 30515893 > 30515890 > 30515876 > 30515894\n",
      "30515874 > 30515879 > 30515880 > 30515881 > 30515882\n",
      "30515895 > 30515897 > 30515878 > 30515898\n",
      "30515891 > 30515892\n",
      "left out positions: 30515899, 30515896, 30515870\n"
     ]
    }
   ],
   "source": [
    "mg.printResult()"
   ]
  },
  {
   "cell_type": "code",
   "execution_count": 8,
   "metadata": {},
   "outputs": [],
   "source": [
    "mg = mgc.Graph(len(pos2idx), idx2pos, pos2pers)\n",
    "mf.init_graph(mg, apply_data, pos2idx, pers2pos)"
   ]
  },
  {
   "cell_type": "code",
   "execution_count": 9,
   "metadata": {},
   "outputs": [
    {
     "name": "stdout",
     "output_type": "stream",
     "text": [
      "{'vertex': 9, 'cycle': 0, 'score': 1062882000000000000}\n",
      "30515891 > 30515892 > 30515891\n",
      "{'vertex': 15, 'cycle': 6, 'score': 95206103580672}\n",
      "30515889 > 30515885 > 30515873 > 30515883 > 30515875 > 30515884 > 30515888 > 30515887 > 30515886 > 30515889\n",
      "{'vertex': 28, 'cycle': 3, 'score': 1613438488895}\n",
      "30515879 > 30515880 > 30515882 > 30515881 > 30515874 > 30515879\n",
      "{'vertex': 1, 'cycle': 4, 'score': 5903156224}\n",
      "30515898 > 30515897 > 30515895 > 30515878 > 30515898\n",
      "{'vertex': 6, 'cycle': 15, 'score': 70000000}\n",
      "30515894 > 30515890 > 30515876 > 30515872 > 30515893 > 30515871 > 30515877 > 30515894\n",
      "left alone positions: 30515899, 30515896, 30515870, "
     ]
    }
   ],
   "source": [
    "mg.find_max_score_cycles()"
   ]
  },
  {
   "cell_type": "code",
   "execution_count": 10,
   "metadata": {},
   "outputs": [
    {
     "name": "stdout",
     "output_type": "stream",
     "text": [
      "30515892 > 30515891\n",
      "30515885 > 30515873 > 30515883 > 30515875 > 30515884 > 30515888 > 30515887 > 30515886 > 30515889\n",
      "30515880 > 30515882 > 30515881 > 30515874 > 30515879\n",
      "30515897 > 30515895 > 30515878 > 30515898\n",
      "30515890 > 30515876 > 30515872 > 30515893 > 30515871 > 30515877 > 30515894\n",
      "left out positions: 30515899, 30515896, 30515870\n"
     ]
    }
   ],
   "source": [
    "mg.printResult()"
   ]
  },
  {
   "cell_type": "code",
   "execution_count": 12,
   "metadata": {},
   "outputs": [],
   "source": [
    "mg.saveExcel()"
   ]
  },
  {
   "cell_type": "code",
   "execution_count": null,
   "metadata": {},
   "outputs": [],
   "source": []
  }
 ],
 "metadata": {
  "kernelspec": {
   "display_name": "Python 3.10.5 64-bit",
   "language": "python",
   "name": "python3"
  },
  "language_info": {
   "codemirror_mode": {
    "name": "ipython",
    "version": 3
   },
   "file_extension": ".py",
   "mimetype": "text/x-python",
   "name": "python",
   "nbconvert_exporter": "python",
   "pygments_lexer": "ipython3",
   "version": "3.10.5"
  },
  "orig_nbformat": 4,
  "vscode": {
   "interpreter": {
    "hash": "369f2c481f4da34e4445cda3fffd2e751bd1c4d706f27375911949ba6bb62e1c"
   }
  }
 },
 "nbformat": 4,
 "nbformat_minor": 2
}
