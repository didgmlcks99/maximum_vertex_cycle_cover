{
 "cells": [
  {
   "cell_type": "code",
   "execution_count": 1,
   "metadata": {},
   "outputs": [],
   "source": [
    "import pandas as pd\n",
    "import openpyxl\n",
    "\n",
    "import my_func as mf\n",
    "import cycle as c\n",
    "import kosarajus_graph as kgc\n",
    "import tarjans_graph as tgc\n",
    "import my_graph as mgc"
   ]
  },
  {
   "cell_type": "code",
   "execution_count": 2,
   "metadata": {},
   "outputs": [],
   "source": [
    "sheet1 = pd.read_excel(\"../data/un_data.xlsx\", engine='openpyxl', sheet_name = 0)\n",
    "sheet2 = pd.read_excel(\"../data/un_data.xlsx\", engine='openpyxl', sheet_name = 1)"
   ]
  },
  {
   "cell_type": "code",
   "execution_count": 3,
   "metadata": {},
   "outputs": [],
   "source": [
    "attr_1 = [\"Position number\", \"Index #\", \"First name\", \"Last name\", \"Current position level\", \"s/m preference 1\", \"s/m preference 2\", \"s/m preference 3\", \"HM recommended\", \"HM recommended.1\", \"HM recommended.2\", \"HM recommended.3\", \"HM recommended.4\", \"Scoring system (total)\", \"Division\"]\n",
    "apply_data = sheet1[attr_1][:30]\n",
    "\n",
    "attr_2 = [\"Position number\", \"Duty Station\", \"Level\"]\n",
    "pos_data = sheet2[attr_2]"
   ]
  },
  {
   "cell_type": "code",
   "execution_count": 4,
   "metadata": {},
   "outputs": [],
   "source": [
    "pos2idx = mf.mk_pos2idx(apply_data)\n",
    "idx2pos = mf.to_idx2pos(pos2idx)"
   ]
  },
  {
   "cell_type": "code",
   "execution_count": 9,
   "metadata": {},
   "outputs": [],
   "source": [
    "mg = mgc.Graph(len(pos2idx), idx2pos)"
   ]
  },
  {
   "cell_type": "code",
   "execution_count": 10,
   "metadata": {},
   "outputs": [],
   "source": [
    "mf.init_graph(mg, apply_data, pos2idx)"
   ]
  },
  {
   "cell_type": "code",
   "execution_count": 12,
   "metadata": {},
   "outputs": [
    {
     "name": "stdout",
     "output_type": "stream",
     "text": [
      "{'vertex': 15, 'cycle': 6, 'length': 8}\n",
      "30515889 --> 30515885 --> 30515873 --> 30515883 --> 30515875 --> 30515884 --> 30515888 --> 30515887 --> 30515886 --> \n",
      "\n",
      "{'vertex': 6, 'cycle': 1, 'length': 6}\n",
      "30515894 --> 30515877 --> 30515872 --> 30515871 --> 30515893 --> 30515890 --> 30515876 --> \n",
      "\n",
      "{'vertex': 25, 'cycle': 2, 'length': 4}\n",
      "30515882 --> 30515874 --> 30515879 --> 30515880 --> 30515881 --> \n",
      "\n",
      "{'vertex': 1, 'cycle': 2, 'length': 3}\n",
      "30515898 --> 30515895 --> 30515897 --> 30515878 --> \n",
      "\n",
      "{'vertex': 8, 'cycle': 0, 'length': 1}\n",
      "30515892 --> 30515891 --> \n",
      "\n",
      "left alone positions: 30515899, 30515896, 30515870, \n"
     ]
    }
   ],
   "source": [
    "mg.find_max_cycles()"
   ]
  },
  {
   "cell_type": "code",
   "execution_count": null,
   "metadata": {},
   "outputs": [],
   "source": []
  }
 ],
 "metadata": {
  "kernelspec": {
   "display_name": "Python 3.6.9 64-bit",
   "language": "python",
   "name": "python3"
  },
  "language_info": {
   "codemirror_mode": {
    "name": "ipython",
    "version": 3
   },
   "file_extension": ".py",
   "mimetype": "text/x-python",
   "name": "python",
   "nbconvert_exporter": "python",
   "pygments_lexer": "ipython3",
   "version": "3.6.9"
  },
  "orig_nbformat": 4,
  "vscode": {
   "interpreter": {
    "hash": "31f2aee4e71d21fbe5cf8b01ff0e069b9275f58929596ceb00d14d90e3e16cd6"
   }
  }
 },
 "nbformat": 4,
 "nbformat_minor": 2
}
