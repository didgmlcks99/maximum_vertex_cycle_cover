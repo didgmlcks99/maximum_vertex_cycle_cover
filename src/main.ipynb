{
 "cells": [
  {
   "cell_type": "code",
   "execution_count": 1,
   "metadata": {},
   "outputs": [],
   "source": [
    "import pandas as pd\n",
    "import openpyxl\n",
    "\n",
    "import my_func as mf\n",
    "import my_graph as mgc"
   ]
  },
  {
   "cell_type": "code",
   "execution_count": 2,
   "metadata": {},
   "outputs": [],
   "source": [
    "sheet1 = pd.read_excel(\"../data/a.xlsx\", engine='openpyxl', sheet_name = 0)"
   ]
  },
  {
   "cell_type": "code",
   "execution_count": 3,
   "metadata": {},
   "outputs": [],
   "source": [
    "attr_1 = [\"Position number\", \"First name\", \"Last name\", \"Current position title\", \"Current position level\", \"s/m preference 1\", \"s/m preference 2\", \"s/m preference 3\", \"HM recommended\", \"HM recommended.1\", \"HM recommended.2\", \"HM recommended.3\", \"HM recommended.4\", \"Scoring system (total)\", \"Current duty station\", \"Hardship classification\"]\n",
    "apply_data = sheet1[attr_1]"
   ]
  },
  {
   "cell_type": "code",
   "execution_count": 4,
   "metadata": {},
   "outputs": [],
   "source": [
    "pos2idx = mf.mk_pos2idx(apply_data)\n",
    "idx2pos = mf.to_idx2pos(pos2idx)\n",
    "pos2pers = mf.mk_pos2pers(apply_data)"
   ]
  },
  {
   "cell_type": "code",
   "execution_count": 5,
   "metadata": {},
   "outputs": [],
   "source": [
    "mg = mgc.Graph(len(pos2idx), idx2pos, pos2pers)\n",
    "mf.init_graph(mg, apply_data, pos2idx)\n",
    "mf.addHMRecScore(mg, apply_data, pos2idx)"
   ]
  },
  {
   "cell_type": "code",
   "execution_count": 6,
   "metadata": {},
   "outputs": [
    {
     "name": "stdout",
     "output_type": "stream",
     "text": [
      "{'vertex': 1, 'cycle': 2, 'length': 3}\n",
      "30515898 > 30515895 > 30515897 > 30515878 > 30515898\n",
      "left alone positions: 30515899, 30515896, "
     ]
    }
   ],
   "source": [
    "mg.find_max_cycles()"
   ]
  },
  {
   "cell_type": "code",
   "execution_count": 7,
   "metadata": {},
   "outputs": [
    {
     "name": "stdout",
     "output_type": "stream",
     "text": [
      "30515895 > 30515897 > 30515878 > 30515898\n",
      "left out positions: 30515899, 30515896\n"
     ]
    }
   ],
   "source": [
    "mg.printResult()"
   ]
  },
  {
   "cell_type": "code",
   "execution_count": 8,
   "metadata": {},
   "outputs": [],
   "source": [
    "mg = mgc.Graph(len(pos2idx), idx2pos, pos2pers)\n",
    "mf.init_graph(mg, apply_data, pos2idx)"
   ]
  },
  {
   "cell_type": "code",
   "execution_count": 9,
   "metadata": {},
   "outputs": [
    {
     "name": "stdout",
     "output_type": "stream",
     "text": [
      "{'vertex': 1, 'cycle': 2, 'score': 102}\n",
      "30515898 > 30515895 > 30515897 > 30515878 > 30515898\n",
      "left alone positions: 30515899, 30515896, "
     ]
    }
   ],
   "source": [
    "mg.find_max_score_cycles()"
   ]
  },
  {
   "cell_type": "code",
   "execution_count": 10,
   "metadata": {},
   "outputs": [
    {
     "name": "stdout",
     "output_type": "stream",
     "text": [
      "30515895 > 30515897 > 30515878 > 30515898\n",
      "left out positions: 30515899, 30515896\n"
     ]
    }
   ],
   "source": [
    "mg.printResult()"
   ]
  },
  {
   "cell_type": "code",
   "execution_count": null,
   "metadata": {},
   "outputs": [],
   "source": [
    "# mg.saveExcel()"
   ]
  },
  {
   "cell_type": "code",
   "execution_count": null,
   "metadata": {},
   "outputs": [],
   "source": []
  }
 ],
 "metadata": {
  "kernelspec": {
   "display_name": "Python 3.10.5 64-bit",
   "language": "python",
   "name": "python3"
  },
  "language_info": {
   "codemirror_mode": {
    "name": "ipython",
    "version": 3
   },
   "file_extension": ".py",
   "mimetype": "text/x-python",
   "name": "python",
   "nbconvert_exporter": "python",
   "pygments_lexer": "ipython3",
   "version": "3.10.5"
  },
  "orig_nbformat": 4,
  "vscode": {
   "interpreter": {
    "hash": "369f2c481f4da34e4445cda3fffd2e751bd1c4d706f27375911949ba6bb62e1c"
   }
  }
 },
 "nbformat": 4,
 "nbformat_minor": 2
}
