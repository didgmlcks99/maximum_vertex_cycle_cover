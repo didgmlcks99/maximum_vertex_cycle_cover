{
 "cells": [
  {
   "cell_type": "code",
   "execution_count": 13,
   "metadata": {},
   "outputs": [],
   "source": [
    "import pandas as pd\n",
    "import openpyxl\n",
    "\n",
    "import my_func as mf\n",
    "import cycle as c\n",
    "import kosarajus_graph as kgc\n",
    "import tarjans_graph as tgc\n",
    "import my_graph as mgc"
   ]
  },
  {
   "cell_type": "code",
   "execution_count": 14,
   "metadata": {},
   "outputs": [],
   "source": [
    "sheet1 = pd.read_excel(\"/home/arise/un/vcc/data/un_data.xlsx\", engine='openpyxl', sheet_name = 0)\n",
    "sheet2 = pd.read_excel(\"/home/arise/un/vcc/data/un_data.xlsx\", engine='openpyxl', sheet_name = 1)"
   ]
  },
  {
   "cell_type": "code",
   "execution_count": 15,
   "metadata": {},
   "outputs": [],
   "source": [
    "attr_1 = [\"Position number\", \"Index #\", \"First name\", \"Last name\", \"Current position level\", \"s/m preference 1\", \"s/m preference 2\", \"s/m preference 3\", \"HM recommended\", \"HM recommended.1\", \"HM recommended.2\", \"HM recommended.3\", \"HM recommended.4\", \"Scoring system (total)\", \"Division\"]\n",
    "apply_data = sheet1[attr_1][:30]\n",
    "\n",
    "attr_2 = [\"Position number\", \"Duty Station\", \"Level\"]\n",
    "pos_data = sheet2[attr_2]"
   ]
  },
  {
   "cell_type": "code",
   "execution_count": 16,
   "metadata": {},
   "outputs": [],
   "source": [
    "pos2idx = mf.mk_pos2idx(apply_data)\n",
    "idx2pos = mf.to_idx2pos(pos2idx)"
   ]
  },
  {
   "cell_type": "code",
   "execution_count": 17,
   "metadata": {},
   "outputs": [],
   "source": [
    "mg = mgc.Graph(len(pos2idx), idx2pos, len(apply_data))\n",
    "mf.init_graph(mg, apply_data, pos2idx)"
   ]
  },
  {
   "cell_type": "code",
   "execution_count": 18,
   "metadata": {},
   "outputs": [
    {
     "name": "stdout",
     "output_type": "stream",
     "text": [
      "{'vertex': 15, 'cycle': 6, 'length': 8}\n",
      "30515889 > 30515885 > 30515873 > 30515883 > 30515875 > 30515884 > 30515888 > 30515887 > 30515886 > 30515889\n",
      "\n",
      "{'vertex': 6, 'cycle': 1, 'length': 6}\n",
      "30515894 > 30515877 > 30515872 > 30515871 > 30515893 > 30515890 > 30515876 > 30515894\n",
      "\n",
      "{'vertex': 25, 'cycle': 2, 'length': 4}\n",
      "30515882 > 30515874 > 30515879 > 30515880 > 30515881 > 30515882\n",
      "\n",
      "{'vertex': 1, 'cycle': 2, 'length': 3}\n",
      "30515898 > 30515895 > 30515897 > 30515878 > 30515898\n",
      "\n",
      "{'vertex': 8, 'cycle': 0, 'length': 1}\n",
      "30515892 > 30515891 > 30515892\n",
      "\n",
      "left alone positions: 30515899, 30515896, 30515870, \n"
     ]
    }
   ],
   "source": [
    "mg.find_max_cycles()"
   ]
  },
  {
   "cell_type": "code",
   "execution_count": 19,
   "metadata": {},
   "outputs": [
    {
     "name": "stdout",
     "output_type": "stream",
     "text": [
      "30515885 > 30515873 > 30515883 > 30515875 > 30515884 > 30515888 > 30515887 > 30515886 > 30515889\n",
      "30515877 > 30515872 > 30515871 > 30515893 > 30515890 > 30515876 > 30515894\n",
      "30515874 > 30515879 > 30515880 > 30515881 > 30515882\n",
      "30515895 > 30515897 > 30515878 > 30515898\n",
      "30515891 > 30515892\n",
      "left out positions: 30515899, 30515896, 30515870\n"
     ]
    }
   ],
   "source": [
    "mg.printResult()"
   ]
  },
  {
   "cell_type": "code",
   "execution_count": 20,
   "metadata": {},
   "outputs": [],
   "source": [
    "mg = mgc.Graph(len(pos2idx), idx2pos, len(apply_data))\n",
    "mf.init_graph(mg, apply_data, pos2idx)"
   ]
  },
  {
   "cell_type": "code",
   "execution_count": 21,
   "metadata": {},
   "outputs": [
    {
     "name": "stdout",
     "output_type": "stream",
     "text": [
      "{'vertex': 8, 'cycle': 0, 'score': 20339100000000.0}\n",
      "30515892 > 30515891 > 30515892\n",
      "\n",
      "{'vertex': 15, 'cycle': 6, 'score': 44566227900.0}\n",
      "30515889 > 30515885 > 30515873 > 30515883 > 30515875 > 30515884 > 30515888 > 30515887 > 30515886 > 30515889\n",
      "\n",
      "{'vertex': 25, 'cycle': 2, 'score': 22623354000.0}\n",
      "30515882 > 30515874 > 30515879 > 30515880 > 30515881 > 30515882\n",
      "\n",
      "{'vertex': 1, 'cycle': 2, 'score': 778410000.0}\n",
      "30515898 > 30515895 > 30515897 > 30515878 > 30515898\n",
      "\n",
      "{'vertex': 6, 'cycle': 1, 'score': 122337000.0}\n",
      "30515894 > 30515877 > 30515872 > 30515871 > 30515893 > 30515890 > 30515876 > 30515894\n",
      "\n",
      "left alone positions: 30515899, 30515896, 30515870, \n"
     ]
    }
   ],
   "source": [
    "mg.find_max_score_cycles()"
   ]
  },
  {
   "cell_type": "code",
   "execution_count": 22,
   "metadata": {},
   "outputs": [
    {
     "name": "stdout",
     "output_type": "stream",
     "text": [
      "30515891 > 30515892\n",
      "30515885 > 30515873 > 30515883 > 30515875 > 30515884 > 30515888 > 30515887 > 30515886 > 30515889\n",
      "30515874 > 30515879 > 30515880 > 30515881 > 30515882\n",
      "30515895 > 30515897 > 30515878 > 30515898\n",
      "30515877 > 30515872 > 30515871 > 30515893 > 30515890 > 30515876 > 30515894\n",
      "left out positions: 30515899, 30515896, 30515870\n"
     ]
    }
   ],
   "source": [
    "mg.printResult()"
   ]
  }
 ],
 "metadata": {
  "kernelspec": {
   "display_name": "Python 3.9.12 ('base')",
   "language": "python",
   "name": "python3"
  },
  "language_info": {
   "codemirror_mode": {
    "name": "ipython",
    "version": 3
   },
   "file_extension": ".py",
   "mimetype": "text/x-python",
   "name": "python",
   "nbconvert_exporter": "python",
   "pygments_lexer": "ipython3",
   "version": "3.9.12"
  },
  "orig_nbformat": 4,
  "vscode": {
   "interpreter": {
    "hash": "348b9cd948ce87438be2e622031b2ecfa29bc2d3ecc0fd03127b9a24b30227df"
   }
  }
 },
 "nbformat": 4,
 "nbformat_minor": 2
}
